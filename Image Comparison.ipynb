{
 "cells": [
  {
   "cell_type": "code",
   "execution_count": 67,
   "metadata": {},
   "outputs": [],
   "source": [
    "import os\n",
    "import cv2"
   ]
  },
  {
   "cell_type": "code",
   "execution_count": 68,
   "metadata": {},
   "outputs": [
    {
     "name": "stdout",
     "output_type": "stream",
     "text": [
      "Best match:6__M_Left_middle_finger.BMP\n",
      "Score:40.0\n"
     ]
    }
   ],
   "source": [
    "inputImage = cv2.imread(\"C:\\\\Users\\\\renga\\\\Downloads\\\\archive\\\\SOCOFing\\\\SOCOFing\\\\Altered\\\\Altered-Hard\\\\6__M_Left_middle_finger_Obl.BMP\")\n",
    "inputImage = cv2.resize(inputImage, None, fx = 1, fy = 1)\n",
    "def fingerprintComparison(inputImage):\n",
    "    bestScore = 0\n",
    "    fileName = None\n",
    "    image = None\n",
    "    kp1=kp2=mp=None\n",
    "\n",
    "    for file in [file for file in os.listdir(\"C:\\\\Users\\\\renga\\\\Downloads\\\\archive\\\\SOCOFing\\\\SOCOFing\\\\Real\")][:-500:-1]:\n",
    "        fingerprintImage = cv2.imread(\"C:\\\\Users\\\\renga\\\\Downloads\\\\archive\\\\SOCOFing\\\\SOCOFing\\\\Real\\\\\" + file)\n",
    "        if fingerprintImage is None:\n",
    "            print(\"None\")\n",
    "            break\n",
    "        sift = cv2.SIFT_create()\n",
    "\n",
    "        keypoints1, descriptors1 = sift.detectAndCompute(inputImage, None)\n",
    "        keypoints2, descriptors2 = sift.detectAndCompute(fingerprintImage, None)\n",
    "        matches = cv2.FlannBasedMatcher({'algorithm':1, 'trees':10}, {}).knnMatch(descriptors1, descriptors2, k=2)\n",
    "\n",
    "        matchpoints = []\n",
    "\n",
    "        for p,q in matches:\n",
    "            if p.distance < 0.1 * q.distance:\n",
    "                matchpoints.append(p)\n",
    "\n",
    "        keypoints = 0\n",
    "        if len(keypoints1) < len(keypoints2):\n",
    "            keypoints = len(keypoints1)\n",
    "        else:\n",
    "            keypoints = len(keypoints2)\n",
    "\n",
    "        if len(matchpoints) / keypoints * 100 > bestScore:\n",
    "            bestScore = len(matchpoints) / keypoints * 100\n",
    "            fileName = file\n",
    "            image = fingerprintImage\n",
    "            kp1,kp2,mp = keypoints1, keypoints2, matchpoints\n",
    "\n",
    "    print(\"Best match:\" + fileName)\n",
    "    print(\"Score:\" + str(bestScore))\n",
    "    result = cv2.drawMatches(inputImage, kp1, image, kp2, mp, None)\n",
    "    result = cv2.resize(result, None, fx = 2.5, fy = 2.5)\n",
    "    cv2.imshow(\"Result\", result)\n",
    "    cv2.waitKey(0)\n",
    "    cv2.destroyAllWindows()\n",
    "fingerprintComparison(inputImage)"
   ]
  }
 ],
 "metadata": {
  "kernelspec": {
   "display_name": "Python 3",
   "language": "python",
   "name": "python3"
  },
  "language_info": {
   "codemirror_mode": {
    "name": "ipython",
    "version": 3
   },
   "file_extension": ".py",
   "mimetype": "text/x-python",
   "name": "python",
   "nbconvert_exporter": "python",
   "pygments_lexer": "ipython3",
   "version": "3.11.7"
  }
 },
 "nbformat": 4,
 "nbformat_minor": 2
}
