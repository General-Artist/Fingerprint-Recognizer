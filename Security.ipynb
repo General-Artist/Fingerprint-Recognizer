{
 "cells": [
  {
   "cell_type": "code",
   "execution_count": 191,
   "metadata": {},
   "outputs": [],
   "source": [
    "from PIL import Image"
   ]
  },
  {
   "cell_type": "code",
   "execution_count": 192,
   "metadata": {},
   "outputs": [],
   "source": [
    "def keygen(x,r,size):\n",
    "    key = []\n",
    "    for i in range(size):\n",
    "        x = r*x*(1-x)\n",
    "        key.append(int((x*pow(10,16))%256))\n",
    "    return key"
   ]
  },
  {
   "cell_type": "code",
   "execution_count": 193,
   "metadata": {},
   "outputs": [],
   "source": [
    "image = Image.open('Lemon.jpg')\n",
    "encrypted_image = Image.new(mode = image.mode, size = image.size)\n",
    "pixel = image.load()\n",
    "epixel = encrypted_image.load()\n",
    "decrypted_image = Image.new(mode=encrypted_image.mode, size = encrypted_image.size)\n",
    "dpixel = decrypted_image.load()\n",
    "key = keygen(0.01,3.89,image.size[0]*image.size[1])"
   ]
  },
  {
   "cell_type": "code",
   "execution_count": 194,
   "metadata": {},
   "outputs": [],
   "source": [
    "\n",
    "def encryption(image):\n",
    "    z = 0\n",
    "    pixel = image.load()\n",
    "    for i in range(image.size[0]):\n",
    "        for j in range(image.size[1]):\n",
    "            epixel[i,j] = pixel[i,j][0]^key[z],pixel[i,j][1]^key[z],pixel[i,j][2]^key[z]\n",
    "            z += 1\n",
    "    return image\n",
    "def decryption(encrypted_image):\n",
    "    z = 0\n",
    "    pixel = encrypted_image.load()\n",
    "    for i in range(encrypted_image.size[0]):\n",
    "        for j in range(encrypted_image.size[1]):\n",
    "            dpixel[i,j] = pixel[i,j][0]^key[z],pixel[i,j][1]^key[z],pixel[i,j][2]^key[z]\n",
    "            z += 1\n",
    "    return image"
   ]
  },
  {
   "cell_type": "code",
   "execution_count": 195,
   "metadata": {},
   "outputs": [],
   "source": [
    "encryption(image)\n",
    "encrypted_image.show()\n",
    "decryption(encrypted_image)\n",
    "decrypted_image.show()"
   ]
  }
 ],
 "metadata": {
  "kernelspec": {
   "display_name": "Python 3",
   "language": "python",
   "name": "python3"
  },
  "language_info": {
   "codemirror_mode": {
    "name": "ipython",
    "version": 3
   },
   "file_extension": ".py",
   "mimetype": "text/x-python",
   "name": "python",
   "nbconvert_exporter": "python",
   "pygments_lexer": "ipython3",
   "version": "3.11.6"
  }
 },
 "nbformat": 4,
 "nbformat_minor": 2
}
