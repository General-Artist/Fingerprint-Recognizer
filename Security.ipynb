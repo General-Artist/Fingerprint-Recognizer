{
 "cells": [
  {
   "cell_type": "code",
   "execution_count": 35,
   "metadata": {},
   "outputs": [],
   "source": [
    "from PIL import Image"
   ]
  },
  {
   "cell_type": "code",
   "execution_count": 36,
   "metadata": {},
   "outputs": [],
   "source": [
    "def keygen(x,r,size):\n",
    "    key = []\n",
    "    for i in range(size):\n",
    "        x = r*x*(1-x)\n",
    "        key.append(int((x*pow(10,16))%256))\n",
    "    return key\n",
    "\n",
    "def encryption(image, key):\n",
    "    z = 0\n",
    "    encryptedImage = Image.new(mode = image.mode, size = image.size)\n",
    "    ePixel = encryptedImage.load()\n",
    "    pixel = image.load()\n",
    "    for i in range(image.size[0]):\n",
    "        for j in range(image.size[1]):\n",
    "            ePixel[i,j] = pixel[i,j][0]^key[z],pixel[i,j][1]^key[z],pixel[i,j][2]^key[z] #ePixel[1,1] (1,2,3)\n",
    "            z += 1\n",
    "    encryptedImage.show()\n",
    "    return encryptedImage\n",
    "\n",
    "def decryption(encryptedImage, key):\n",
    "    z = 0\n",
    "    decryptedImage = Image.new(mode = encryptedImage.mode, size = encryptedImage.size)\n",
    "    dPixel = decryptedImage.load()\n",
    "    pixel = encryptedImage.load()\n",
    "    for i in range(encryptedImage.size[0]):\n",
    "        for j in range(encryptedImage.size[1]):\n",
    "            dPixel[i,j] = pixel[i,j][0]^key[z],pixel[i,j][1]^key[z],pixel[i,j][2]^key[z]\n",
    "            z += 1\n",
    "    decryptedImage.show()"
   ]
  },
  {
   "cell_type": "code",
   "execution_count": 37,
   "metadata": {},
   "outputs": [],
   "source": [
    "image = Image.open('White.png').convert(\"RGB\")\n",
    "key = keygen(0.99,3.91,image.size[0]*image.size[1])"
   ]
  },
  {
   "cell_type": "code",
   "execution_count": 38,
   "metadata": {},
   "outputs": [],
   "source": [
    "encryptedImage = encryption(image, key)\n",
    "decryption(encryptedImage, key)"
   ]
  }
 ],
 "metadata": {
  "kernelspec": {
   "display_name": "Python 3",
   "language": "python",
   "name": "python3"
  },
  "language_info": {
   "codemirror_mode": {
    "name": "ipython",
    "version": 3
   },
   "file_extension": ".py",
   "mimetype": "text/x-python",
   "name": "python",
   "nbconvert_exporter": "python",
   "pygments_lexer": "ipython3",
   "version": "3.11.6"
  }
 },
 "nbformat": 4,
 "nbformat_minor": 2
}
